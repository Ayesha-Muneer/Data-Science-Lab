{
  "nbformat": 4,
  "nbformat_minor": 0,
  "metadata": {
    "colab": {
      "name": "CourseOutcome1.ipynb",
      "provenance": [],
      "include_colab_link": true
    },
    "kernelspec": {
      "name": "python3",
      "display_name": "Python 3"
    },
    "language_info": {
      "name": "python"
    }
  },
  "cells": [
    {
      "cell_type": "markdown",
      "metadata": {
        "id": "view-in-github",
        "colab_type": "text"
      },
      "source": [
        "<a href=\"https://colab.research.google.com/github/Ayesha-Muneer/Data-Science-Lab/blob/master/CourseOutcome1.ipynb\" target=\"_parent\"><img src=\"https://colab.research.google.com/assets/colab-badge.svg\" alt=\"Open In Colab\"/></a>"
      ]
    },
    {
      "cell_type": "code",
      "metadata": {
        "colab": {
          "base_uri": "https://localhost:8080/"
        },
        "id": "XalLUCymZ0FQ",
        "outputId": "69e7fec7-8c5a-4606-dc71-93304474ce0e"
      },
      "source": [
        "#numpy Introduction\n",
        "import numpy as np\n",
        "a=np.array([[1,2,3,4],[5,6,7,8]])\n",
        "print(a)"
      ],
      "execution_count": null,
      "outputs": [
        {
          "output_type": "stream",
          "name": "stdout",
          "text": [
            "[[1 2 3 4]\n",
            " [5 6 7 8]]\n"
          ]
        }
      ]
    },
    {
      "cell_type": "code",
      "metadata": {
        "colab": {
          "base_uri": "https://localhost:8080/"
        },
        "id": "8c6Wn-3SbVyj",
        "outputId": "d3d0d434-cc49-4909-a150-0b1d460af8c5"
      },
      "source": [
        "#Type functiom\n",
        "print(\"Type of Array : \",type(a))"
      ],
      "execution_count": null,
      "outputs": [
        {
          "output_type": "stream",
          "name": "stdout",
          "text": [
            "Type of Array :  <class 'numpy.ndarray'>\n"
          ]
        }
      ]
    },
    {
      "cell_type": "code",
      "metadata": {
        "colab": {
          "base_uri": "https://localhost:8080/"
        },
        "id": "SSmRHNjdcA_h",
        "outputId": "97c358a3-864c-42bd-d088-8179e119bf32"
      },
      "source": [
        "#Dimension using ndim\n",
        "print(\"Dimension of Array : \",a.ndim)"
      ],
      "execution_count": null,
      "outputs": [
        {
          "output_type": "stream",
          "name": "stdout",
          "text": [
            "Dimension of Array :  2\n"
          ]
        }
      ]
    },
    {
      "cell_type": "code",
      "metadata": {
        "colab": {
          "base_uri": "https://localhost:8080/"
        },
        "id": "eZ6UrpsbcMBA",
        "outputId": "f36a038e-a9ad-4730-c819-a1b229606efc"
      },
      "source": [
        "#Shape\n",
        "print(\"Shape of Array : \",a.shape)"
      ],
      "execution_count": null,
      "outputs": [
        {
          "output_type": "stream",
          "name": "stdout",
          "text": [
            "Shape of Array :  (2, 4)\n"
          ]
        }
      ]
    },
    {
      "cell_type": "code",
      "metadata": {
        "colab": {
          "base_uri": "https://localhost:8080/"
        },
        "id": "I_19NEswcR--",
        "outputId": "e46f297f-2e16-4a8e-8061-923e662a3321"
      },
      "source": [
        "#size\n",
        "print(\"Size of Array : \",a.size)"
      ],
      "execution_count": null,
      "outputs": [
        {
          "output_type": "stream",
          "name": "stdout",
          "text": [
            "Size of Array :  8\n"
          ]
        }
      ]
    },
    {
      "cell_type": "code",
      "metadata": {
        "colab": {
          "base_uri": "https://localhost:8080/"
        },
        "id": "IDz6o34AcXiw",
        "outputId": "1d98ce76-ff44-4898-b9bb-d049cb9358cf"
      },
      "source": [
        "#List to array\n",
        "l = [1, 2, 3, 4]\n",
        "print(type(l)) #Type prints the type used\n",
        "print(l)\n",
        "a=np.asarray(l)\n",
        "print(type(a))\n",
        "print(a)\n"
      ],
      "execution_count": null,
      "outputs": [
        {
          "output_type": "stream",
          "name": "stdout",
          "text": [
            "<class 'list'>\n",
            "[1, 2, 3, 4]\n",
            "<class 'numpy.ndarray'>\n",
            "[1 2 3 4]\n"
          ]
        }
      ]
    },
    {
      "cell_type": "code",
      "metadata": {
        "colab": {
          "base_uri": "https://localhost:8080/"
        },
        "id": "1EEZEFxAd0e3",
        "outputId": "1b41a52b-12d1-43a1-ab0f-1fb3421a411d"
      },
      "source": [
        "#Tuple to array\n",
        "t = ([1, 2], [3, 4])\n",
        "print(type(t))\n",
        "print(t)\n",
        "a=np.asarray(t)\n",
        "print(type(a))\n",
        "print(a)"
      ],
      "execution_count": null,
      "outputs": [
        {
          "output_type": "stream",
          "name": "stdout",
          "text": [
            "<class 'tuple'>\n",
            "([1, 2], [3, 4])\n",
            "<class 'numpy.ndarray'>\n",
            "[[1 2]\n",
            " [3 4]]\n"
          ]
        }
      ]
    },
    {
      "cell_type": "code",
      "metadata": {
        "colab": {
          "base_uri": "https://localhost:8080/"
        },
        "id": "1ha3lHTGeaDn",
        "outputId": "560dabb2-f2f9-4ff0-d98d-800f89a3fb82"
      },
      "source": [
        "#1D Array\n",
        "a = np.array([1, 2, 3, 4])\n",
        "print(a)"
      ],
      "execution_count": null,
      "outputs": [
        {
          "output_type": "stream",
          "name": "stdout",
          "text": [
            "[1 2 3 4]\n"
          ]
        }
      ]
    },
    {
      "cell_type": "code",
      "metadata": {
        "colab": {
          "base_uri": "https://localhost:8080/"
        },
        "id": "vJZL-vwRf3GX",
        "outputId": "76d47b69-0ad7-476d-d242-48cfa54daf08"
      },
      "source": [
        "#2D Array\n",
        "a = ([[1, 2],[3,4]])\n",
        "n = np.array(a)\n",
        "print(\"Array :\",n)\n",
        "print(\"Dimension :\",n.ndim)\n",
        "print(\"Shape :\",n.shape)"
      ],
      "execution_count": null,
      "outputs": [
        {
          "output_type": "stream",
          "name": "stdout",
          "text": [
            "Array : [[1 2]\n",
            " [3 4]]\n",
            "Dimension : 2\n",
            "Shape : (2, 2)\n"
          ]
        }
      ]
    },
    {
      "cell_type": "code",
      "metadata": {
        "colab": {
          "base_uri": "https://localhost:8080/"
        },
        "id": "t5tBfnOKgtgW",
        "outputId": "73e4fd1c-0aba-4840-d013-672efac769a2"
      },
      "source": [
        "#Zeros function\n",
        "a=np.zeros((3,3))\n",
        "print(a)"
      ],
      "execution_count": null,
      "outputs": [
        {
          "output_type": "stream",
          "name": "stdout",
          "text": [
            "[[0. 0. 0.]\n",
            " [0. 0. 0.]\n",
            " [0. 0. 0.]]\n"
          ]
        }
      ]
    },
    {
      "cell_type": "code",
      "metadata": {
        "colab": {
          "base_uri": "https://localhost:8080/"
        },
        "id": "-zsRWCKChJAk",
        "outputId": "dabb0cc5-9743-4d2e-a3f1-48ccc3004b31"
      },
      "source": [
        "#Ones function\n",
        "a=np.ones((3,3))\n",
        "print(a)"
      ],
      "execution_count": null,
      "outputs": [
        {
          "output_type": "stream",
          "name": "stdout",
          "text": [
            "[[1. 1. 1.]\n",
            " [1. 1. 1.]\n",
            " [1. 1. 1.]]\n"
          ]
        }
      ]
    },
    {
      "cell_type": "code",
      "metadata": {
        "colab": {
          "base_uri": "https://localhost:8080/"
        },
        "id": "aVCb_h0nhXgc",
        "outputId": "558be4b1-7c44-41e4-9b33-9a3a9abf8210"
      },
      "source": [
        "#Ones function in integer\n",
        "a=np.ones((3,3))\n",
        "a=a.astype(int)\n",
        "print(a)"
      ],
      "execution_count": null,
      "outputs": [
        {
          "output_type": "stream",
          "name": "stdout",
          "text": [
            "[[1 1 1]\n",
            " [1 1 1]\n",
            " [1 1 1]]\n"
          ]
        }
      ]
    },
    {
      "cell_type": "code",
      "metadata": {
        "colab": {
          "base_uri": "https://localhost:8080/"
        },
        "id": "7S40eOX4h8r0",
        "outputId": "7d2ff85e-dba7-4495-b40d-cd92a4487e0b"
      },
      "source": [
        "#eye function- Identity matrix\n",
        "a=np.eye(3, dtype=int)\n",
        "print(a)"
      ],
      "execution_count": null,
      "outputs": [
        {
          "output_type": "stream",
          "name": "stdout",
          "text": [
            "[[1 0 0]\n",
            " [0 1 0]\n",
            " [0 0 1]]\n"
          ]
        }
      ]
    },
    {
      "cell_type": "code",
      "metadata": {
        "colab": {
          "base_uri": "https://localhost:8080/"
        },
        "id": "L5tUF4V2iUL1",
        "outputId": "f9d6acc3-eaa2-4cfe-c175-09c171e9f9f0"
      },
      "source": [
        "#range of numbers\n",
        "print(\"Array from 2 to 8 : \",np.arange(2,9))"
      ],
      "execution_count": null,
      "outputs": [
        {
          "output_type": "stream",
          "name": "stdout",
          "text": [
            "[2 3 4 5 6 7 8]\n"
          ]
        }
      ]
    },
    {
      "cell_type": "code",
      "metadata": {
        "colab": {
          "base_uri": "https://localhost:8080/"
        },
        "id": "I92RRpQZj6SU",
        "outputId": "11079431-d68e-4190-f770-a0a8380c0ae8"
      },
      "source": [
        "#range of numbers with common diffrence\n",
        "print(\"Array: \",np.arange(2,22,2))"
      ],
      "execution_count": null,
      "outputs": [
        {
          "output_type": "stream",
          "name": "stdout",
          "text": [
            "Array:  [ 2  4  6  8 10 12 14 16 18 20]\n"
          ]
        }
      ]
    },
    {
      "cell_type": "code",
      "metadata": {
        "colab": {
          "base_uri": "https://localhost:8080/"
        },
        "id": "h4_xdAwajakM",
        "outputId": "f9a093d2-f917-4f34-d91a-209fa349f254"
      },
      "source": [
        "#Addition\n",
        "a=([1,2,3,4,5])\n",
        "b=([5,4,3,2,1])\n",
        "print(\"Sum is : \",np.add(a,b))"
      ],
      "execution_count": null,
      "outputs": [
        {
          "output_type": "stream",
          "name": "stdout",
          "text": [
            "Sum is :  [6 6 6 6 6]\n"
          ]
        }
      ]
    },
    {
      "cell_type": "code",
      "metadata": {
        "colab": {
          "base_uri": "https://localhost:8080/"
        },
        "id": "zE5H-RNxkRTS",
        "outputId": "b8ca6e15-228a-4de5-c599-445d01a806b2"
      },
      "source": [
        "#Subtraction\n",
        "a=([1,2,3,4,5])\n",
        "b=([5,4,3,2,1])\n",
        "print(\"Diffrence is : \",np.subtract(a,b))\n",
        "print(\"Diffrence is : \",np.subtract(b,a))"
      ],
      "execution_count": null,
      "outputs": [
        {
          "output_type": "stream",
          "name": "stdout",
          "text": [
            "Diffrence is :  [-4 -2  0  2  4]\n",
            "Diffrence is :  [ 4  2  0 -2 -4]\n"
          ]
        }
      ]
    },
    {
      "cell_type": "code",
      "metadata": {
        "colab": {
          "base_uri": "https://localhost:8080/"
        },
        "id": "N66pdsZdkaU6",
        "outputId": "178edff7-7a89-4020-9426-ecd83b7fc5bb"
      },
      "source": [
        "#Multiplication\n",
        "a=([1,2,3,4,5])\n",
        "b=([5,4,3,2,1])\n",
        "print(\"Multiplication : \",np.multiply(a,b))"
      ],
      "execution_count": null,
      "outputs": [
        {
          "output_type": "stream",
          "name": "stdout",
          "text": [
            "Multiplication :  [5 8 9 8 5]\n"
          ]
        }
      ]
    },
    {
      "cell_type": "code",
      "metadata": {
        "colab": {
          "base_uri": "https://localhost:8080/"
        },
        "id": "gt0JhZP1khOW",
        "outputId": "ddf97c19-4e43-4385-a988-cd8318ce07b0"
      },
      "source": [
        "#Division and reminder\n",
        "a=([1,2,3,4,5])\n",
        "b=([5,4,3,2,1])\n",
        "print(\"Quotient is : \",np.divide(a,b))\n",
        "print(\"Reminder is : \",np.mod(a,b))\n",
        "print(\"Quotient and reminder is : \",np.divmod(a,b))\n"
      ],
      "execution_count": null,
      "outputs": [
        {
          "output_type": "stream",
          "name": "stdout",
          "text": [
            "Quotient is :  [0.2 0.5 1.  2.  5. ]\n",
            "Quotient is :  [1 2 0 0 0]\n",
            "Quotient is :  (array([0, 0, 1, 2, 5]), array([1, 2, 0, 0, 0]))\n"
          ]
        }
      ]
    },
    {
      "cell_type": "code",
      "metadata": {
        "colab": {
          "base_uri": "https://localhost:8080/"
        },
        "id": "fQpT71Bsk4uF",
        "outputId": "22a43335-c219-43e4-8c46-20a4efb9973e"
      },
      "source": [
        "#Power\n",
        "a=([1,2,3,4,5])\n",
        "b=([5,4,3,2,1])\n",
        "print(\"power is : \",np.power(a,b))\n",
        "print(\"power is : \",np.power(a,2))"
      ],
      "execution_count": null,
      "outputs": [
        {
          "output_type": "stream",
          "name": "stdout",
          "text": [
            "power is :  [ 1 16 27 16  5]\n",
            "power is :  [ 1  4  9 16 25]\n"
          ]
        }
      ]
    },
    {
      "cell_type": "code",
      "metadata": {
        "colab": {
          "base_uri": "https://localhost:8080/"
        },
        "id": "NRYahNqllfLs",
        "outputId": "f2a6664e-ad6e-4b8b-cb5b-fd03c82de7dc"
      },
      "source": [
        "#Absolute\n",
        "a=np.array([-1,2,-3,4,-5,-6,7,-8])\n",
        "print(\"Array is:\",np.absolute(a))"
      ],
      "execution_count": null,
      "outputs": [
        {
          "output_type": "stream",
          "name": "stdout",
          "text": [
            "Array is: [1 2 3 4 5 6 7 8]\n"
          ]
        }
      ]
    },
    {
      "cell_type": "code",
      "metadata": {
        "colab": {
          "base_uri": "https://localhost:8080/"
        },
        "id": "OtMPCc1Im0Lj",
        "outputId": "86229132-dc36-46d2-c392-dbc51136998b"
      },
      "source": [
        "#linspace\n",
        "np.linspace(2,7, num = 10,retstep=True, dtype=int)"
      ],
      "execution_count": null,
      "outputs": [
        {
          "output_type": "execute_result",
          "data": {
            "text/plain": [
              "(array([2, 2, 3, 3, 4, 4, 5, 5, 6, 7]), 0.5555555555555556)"
            ]
          },
          "metadata": {},
          "execution_count": 71
        }
      ]
    },
    {
      "cell_type": "code",
      "metadata": {
        "colab": {
          "base_uri": "https://localhost:8080/"
        },
        "id": "pA1lweK2pfLS",
        "outputId": "bb81d1b0-729b-4ab0-95af-9ce2531aa839"
      },
      "source": [
        "# Create an array filled with random values\n",
        "a = np.random.random((2,2))  \n",
        "print(a)"
      ],
      "execution_count": null,
      "outputs": [
        {
          "output_type": "stream",
          "name": "stdout",
          "text": [
            "[[0.7986712  0.43262398]\n",
            " [0.35249827 0.42225914]]\n"
          ]
        }
      ]
    },
    {
      "cell_type": "code",
      "metadata": {
        "colab": {
          "base_uri": "https://localhost:8080/"
        },
        "id": "OO1kJe6Xp7bC",
        "outputId": "422aa58e-e172-438f-cbef-d8cd2bcd1df9"
      },
      "source": [
        "#Reshaping\n",
        "a=np.array([1,2,3,4,5,6,7,8,9])\n",
        "print(\"Array : \",a)\n",
        "print(\"Array after reshaping:\\n\" ,a.reshape(3,3))"
      ],
      "execution_count": null,
      "outputs": [
        {
          "output_type": "stream",
          "name": "stdout",
          "text": [
            "Array :  [1 2 3 4 5 6 7 8 9]\n",
            "Array after reshaping:\n",
            " [[1 2 3]\n",
            " [4 5 6]\n",
            " [7 8 9]]\n"
          ]
        }
      ]
    },
    {
      "cell_type": "code",
      "metadata": {
        "colab": {
          "base_uri": "https://localhost:8080/"
        },
        "id": "mwwUKkzlr7xJ",
        "outputId": "70cf310f-f961-4510-f28d-0ba47987a982"
      },
      "source": [
        "#resizing\n",
        "a = np.array([[1,2,3],[4,5,6]]) \n",
        "print(\"Array is :\\n\",a)\n",
        "b=np.resize(a, (3,2))\n",
        "print(\"Array after resizing :\\n\",b)\n",
        "a.resize(3,2)\n",
        "print(\"Array after resizing :\\n\",a)\n"
      ],
      "execution_count": null,
      "outputs": [
        {
          "output_type": "stream",
          "name": "stdout",
          "text": [
            "Array is :\n",
            " [[1 2 3]\n",
            " [4 5 6]]\n",
            "Array after resizing :\n",
            " [[1 2]\n",
            " [3 4]\n",
            " [5 6]]\n",
            "Array after resizing :\n",
            " [[1 2]\n",
            " [3 4]\n",
            " [5 6]]\n"
          ]
        }
      ]
    },
    {
      "cell_type": "code",
      "metadata": {
        "id": "gy2hYkyVvXkf",
        "colab": {
          "base_uri": "https://localhost:8080/"
        },
        "outputId": "3a74d2eb-2633-4848-f4d5-213962bdc89f"
      },
      "source": [
        "from numpy.linalg import svd\n",
        "np.linalg.svd(a)"
      ],
      "execution_count": null,
      "outputs": [
        {
          "output_type": "execute_result",
          "data": {
            "text/plain": [
              "(array([[-0.37616823, -0.92655138],\n",
              "        [-0.92655138,  0.37616823]]),\n",
              " array([14.22740741,  1.25732984]),\n",
              " array([[-0.35206169, -0.44362578, -0.53518987, -0.62675396],\n",
              "        [ 0.75898127,  0.3212416 , -0.11649807, -0.55423774],\n",
              "        [-0.40008743,  0.25463292,  0.69099646, -0.54554195],\n",
              "        [-0.37407225,  0.79697056, -0.47172438,  0.04882607]]))"
            ]
          },
          "metadata": {},
          "execution_count": 4
        }
      ]
    },
    {
      "cell_type": "code",
      "metadata": {
        "colab": {
          "base_uri": "https://localhost:8080/"
        },
        "id": "kTpMOGKDR4jF",
        "outputId": "9efcb191-fb3b-4880-f558-6abb331111f0"
      },
      "source": [
        "u,s,vt=svd(a,full_matrices=True)\n",
        "print(u.shape,s.shape,vt.shape)"
      ],
      "execution_count": null,
      "outputs": [
        {
          "output_type": "stream",
          "name": "stdout",
          "text": [
            "(2, 2) (2,) (4, 4)\n"
          ]
        }
      ]
    },
    {
      "cell_type": "code",
      "metadata": {
        "colab": {
          "base_uri": "https://localhost:8080/"
        },
        "id": "XWXQ8_QnSl4c",
        "outputId": "ed69cd8f-f36a-4486-be3b-182d91a77ca4"
      },
      "source": [
        "print(a)"
      ],
      "execution_count": null,
      "outputs": [
        {
          "output_type": "stream",
          "name": "stdout",
          "text": [
            "[[1 2 3 4]\n",
            " [5 6 7 8]]\n"
          ]
        }
      ]
    },
    {
      "cell_type": "code",
      "metadata": {
        "colab": {
          "base_uri": "https://localhost:8080/"
        },
        "id": "fA55F4EVSp-i",
        "outputId": "8dc40c34-1121-48c3-a957-674396e17b83"
      },
      "source": [
        "print(u)"
      ],
      "execution_count": null,
      "outputs": [
        {
          "output_type": "stream",
          "name": "stdout",
          "text": [
            "[[-0.37616823 -0.92655138]\n",
            " [-0.92655138  0.37616823]]\n"
          ]
        }
      ]
    },
    {
      "cell_type": "code",
      "metadata": {
        "colab": {
          "base_uri": "https://localhost:8080/"
        },
        "id": "0By3GGl_TF5X",
        "outputId": "e48056f1-bfe3-41cd-e5a6-7dab1e584a1e"
      },
      "source": [
        "print(s)"
      ],
      "execution_count": null,
      "outputs": [
        {
          "output_type": "stream",
          "name": "stdout",
          "text": [
            "[14.22740741  1.25732984]\n"
          ]
        }
      ]
    },
    {
      "cell_type": "code",
      "metadata": {
        "colab": {
          "base_uri": "https://localhost:8080/"
        },
        "id": "MKSdx0oWTJla",
        "outputId": "1c6936d4-8c6e-45d2-c899-9b6b261ead66"
      },
      "source": [
        "print(vt)"
      ],
      "execution_count": null,
      "outputs": [
        {
          "output_type": "stream",
          "name": "stdout",
          "text": [
            "[[-0.35206169 -0.44362578 -0.53518987 -0.62675396]\n",
            " [ 0.75898127  0.3212416  -0.11649807 -0.55423774]\n",
            " [-0.40008743  0.25463292  0.69099646 -0.54554195]\n",
            " [-0.37407225  0.79697056 -0.47172438  0.04882607]]\n"
          ]
        }
      ]
    },
    {
      "cell_type": "code",
      "metadata": {
        "colab": {
          "base_uri": "https://localhost:8080/"
        },
        "id": "mBYLkVlQTPYE",
        "outputId": "e7207530-8f95-429b-9fdc-3a5ba40fda6b"
      },
      "source": [
        "a.transpose()"
      ],
      "execution_count": null,
      "outputs": [
        {
          "output_type": "execute_result",
          "data": {
            "text/plain": [
              "array([[1, 5],\n",
              "       [2, 6],\n",
              "       [3, 7],\n",
              "       [4, 8]])"
            ]
          },
          "metadata": {},
          "execution_count": 11
        }
      ]
    }
  ]
}