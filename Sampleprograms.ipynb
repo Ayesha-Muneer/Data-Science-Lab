{
  "nbformat": 4,
  "nbformat_minor": 0,
  "metadata": {
    "colab": {
      "name": "Sampleprograms.ipynb",
      "provenance": [],
      "authorship_tag": "ABX9TyOhmkh/KEFY2PUSsuBQfv0s",
      "include_colab_link": true
    },
    "kernelspec": {
      "name": "python3",
      "display_name": "Python 3"
    },
    "language_info": {
      "name": "python"
    }
  },
  "cells": [
    {
      "cell_type": "markdown",
      "metadata": {
        "id": "view-in-github",
        "colab_type": "text"
      },
      "source": [
        "<a href=\"https://colab.research.google.com/github/Ayesha-Muneer/Data-Science-Lab/blob/master/Sampleprograms.ipynb\" target=\"_parent\"><img src=\"https://colab.research.google.com/assets/colab-badge.svg\" alt=\"Open In Colab\"/></a>"
      ]
    },
    {
      "cell_type": "code",
      "metadata": {
        "colab": {
          "base_uri": "https://localhost:8080/"
        },
        "id": "ZJZpKcAOvF7j",
        "outputId": "0d9575c7-29b5-45df-eafc-52839a124264"
      },
      "source": [
        "#sum of 2 numbers\n",
        "a=int(input(\"Enter first number: \"))\n",
        "b=int(input(\"Enter second number: \"))\n",
        "print(\"sum is : \" ,a+b)"
      ],
      "execution_count": null,
      "outputs": [
        {
          "output_type": "stream",
          "name": "stdout",
          "text": [
            "Enter first number: 35\n",
            "Enter second number: 45\n",
            "sum is :  80\n"
          ]
        }
      ]
    },
    {
      "cell_type": "code",
      "metadata": {
        "colab": {
          "base_uri": "https://localhost:8080/"
        },
        "id": "_U-2E5kHwV9r",
        "outputId": "26e4cf1e-084a-414f-fec0-269a7353c403"
      },
      "source": [
        "#reverse of a number\n",
        "num=int(input(\"Enter the number:\" ))\n",
        "s=0\n",
        "while num != 0:\n",
        " r=num % 10\n",
        " s=s * 10 + r\n",
        " num= num//10\n",
        "print(\"Reversed number is: \",s)"
      ],
      "execution_count": null,
      "outputs": [
        {
          "output_type": "stream",
          "name": "stdout",
          "text": [
            "Enter the number:13579\n",
            "Reversed number is:  97531\n"
          ]
        }
      ]
    },
    {
      "cell_type": "code",
      "metadata": {
        "colab": {
          "base_uri": "https://localhost:8080/"
        },
        "id": "yc2KZYlayZ00",
        "outputId": "9886fdec-d8da-4d2f-cdc3-2dd20f9d86e2"
      },
      "source": [
        "#positve or negative number\n",
        "num=int(input(\"Enter the number: \"))\n",
        "if(num>0):\n",
        "  print(num,\" is positive\")\n",
        "else:\n",
        "  print(num, \"is negative\")"
      ],
      "execution_count": null,
      "outputs": [
        {
          "output_type": "stream",
          "name": "stdout",
          "text": [
            "Enter the number: 1\n",
            "1  is positive\n"
          ]
        }
      ]
    },
    {
      "cell_type": "code",
      "metadata": {
        "colab": {
          "base_uri": "https://localhost:8080/"
        },
        "id": "eXp4dU03zyLR",
        "outputId": "6e0b9358-80f5-4941-84b7-840b4b37f501"
      },
      "source": [
        "#count the digits\n",
        "num=int(input(\"Enter the number: \"))\n",
        "t=num\n",
        "count=0\n",
        "while num>0:\n",
        "  count=count+1\n",
        "  num=num//10\n",
        "print(\"Number of digits in \",t,\"are: \",count)"
      ],
      "execution_count": null,
      "outputs": [
        {
          "output_type": "stream",
          "name": "stdout",
          "text": [
            "Enter the number: 12345\n",
            "Number of digits in  12345 are:  5\n"
          ]
        }
      ]
    },
    {
      "cell_type": "code",
      "metadata": {
        "colab": {
          "base_uri": "https://localhost:8080/"
        },
        "id": "GgwU0fe01TvD",
        "outputId": "076f6607-a179-47a6-caf3-cad27c4956d0"
      },
      "source": [
        "#palindrome\n",
        "num=int(input(\"Enter the number:\" ))\n",
        "t=num\n",
        "s=0\n",
        "while num != 0:\n",
        " r=num % 10\n",
        " s=s * 10 + r\n",
        " num= num//10\n",
        "if(t==s):\n",
        " print(t,\" is palindrome.\")\n",
        "else:\n",
        "  print(t,\"is not palindrome.\")"
      ],
      "execution_count": null,
      "outputs": [
        {
          "output_type": "stream",
          "name": "stdout",
          "text": [
            "Enter the number:12321\n",
            "12321  is palindrome.\n"
          ]
        }
      ]
    },
    {
      "cell_type": "code",
      "metadata": {
        "colab": {
          "base_uri": "https://localhost:8080/"
        },
        "id": "3tr1-Uv57hlU",
        "outputId": "7b9c2de8-830f-423b-abce-4c8733d3c164"
      },
      "source": [
        "#area and perimeter of circle\n",
        "pi=3.14\n",
        "r=int(input(\"Enter the radius of the circle: \"))\n",
        "print(\"Area is :\",pi*r*r)\n",
        "print(\"perimeter is:\",2*pi*r)"
      ],
      "execution_count": null,
      "outputs": [
        {
          "output_type": "stream",
          "name": "stdout",
          "text": [
            "Enter the radius of the circle: 2\n",
            "Area is : 12.56\n",
            "perimeter is: 12.56\n"
          ]
        }
      ]
    },
    {
      "cell_type": "code",
      "metadata": {
        "colab": {
          "base_uri": "https://localhost:8080/"
        },
        "id": "FdE0WQOI9XrP",
        "outputId": "8fd8d91a-46e1-4da6-8ab8-aa5e0cfa7c11"
      },
      "source": [
        "#biggest of 3 numbers\n",
        "a=int(input(\"Enter the first number : \"))\n",
        "b=int(input(\"Enter the second number : \"))\n",
        "c=int(input(\"Enter the third number : \"))\n",
        "if(a>b and a>c):\n",
        "  print(a,\" is greater.\")\n",
        "elif(b>c and b>a):\n",
        "  print(b,\" is greater.\")\n",
        "else:\n",
        "  print(c,\" is greater.\")\n"
      ],
      "execution_count": null,
      "outputs": [
        {
          "output_type": "stream",
          "name": "stdout",
          "text": [
            "Enter the first number : 12\n",
            "Enter the second number : 43\n",
            "Enter the third number : 67\n",
            "67  is greater.\n"
          ]
        }
      ]
    },
    {
      "cell_type": "code",
      "metadata": {
        "colab": {
          "base_uri": "https://localhost:8080/",
          "height": 248
        },
        "id": "FrmBT8dx-Ejm",
        "outputId": "42636e6a-8e5b-4bf9-c5c4-8903b4667a44"
      },
      "source": [
        "#list and tuple\n",
        "values = input(\"Enter comma seprated numbers : \")\n",
        "list = values.split(\",\")\n",
        "print('List : ',list)\n",
        "tuple1 = tuple(list)\n",
        "print('Tuple : ',tuple1)"
      ],
      "execution_count": null,
      "outputs": [
        {
          "output_type": "stream",
          "name": "stdout",
          "text": [
            "Enter comma seprated numbers : 1,2,3,4,5\n",
            "List :  ['1', '2', '3', '4', '5']\n"
          ]
        },
        {
          "output_type": "error",
          "ename": "TypeError",
          "evalue": "ignored",
          "traceback": [
            "\u001b[0;31m---------------------------------------------------------------------------\u001b[0m",
            "\u001b[0;31mTypeError\u001b[0m                                 Traceback (most recent call last)",
            "\u001b[0;32m<ipython-input-47-2e818904b49a>\u001b[0m in \u001b[0;36m<module>\u001b[0;34m()\u001b[0m\n\u001b[1;32m      3\u001b[0m \u001b[0mlist\u001b[0m \u001b[0;34m=\u001b[0m \u001b[0mvalues\u001b[0m\u001b[0;34m.\u001b[0m\u001b[0msplit\u001b[0m\u001b[0;34m(\u001b[0m\u001b[0;34m\",\"\u001b[0m\u001b[0;34m)\u001b[0m\u001b[0;34m\u001b[0m\u001b[0;34m\u001b[0m\u001b[0m\n\u001b[1;32m      4\u001b[0m \u001b[0mprint\u001b[0m\u001b[0;34m(\u001b[0m\u001b[0;34m'List : '\u001b[0m\u001b[0;34m,\u001b[0m\u001b[0mlist\u001b[0m\u001b[0;34m)\u001b[0m\u001b[0;34m\u001b[0m\u001b[0;34m\u001b[0m\u001b[0m\n\u001b[0;32m----> 5\u001b[0;31m \u001b[0mtuple1\u001b[0m \u001b[0;34m=\u001b[0m \u001b[0mtuple\u001b[0m\u001b[0;34m(\u001b[0m\u001b[0mlist\u001b[0m\u001b[0;34m)\u001b[0m\u001b[0;34m\u001b[0m\u001b[0;34m\u001b[0m\u001b[0m\n\u001b[0m\u001b[1;32m      6\u001b[0m \u001b[0mprint\u001b[0m\u001b[0;34m(\u001b[0m\u001b[0;34m'Tuple : '\u001b[0m\u001b[0;34m,\u001b[0m\u001b[0mtuple1\u001b[0m\u001b[0;34m)\u001b[0m\u001b[0;34m\u001b[0m\u001b[0;34m\u001b[0m\u001b[0m\n",
            "\u001b[0;31mTypeError\u001b[0m: 'tuple' object is not callable"
          ]
        }
      ]
    },
    {
      "cell_type": "code",
      "metadata": {
        "colab": {
          "base_uri": "https://localhost:8080/"
        },
        "id": "WZ6ytZDm-pjN",
        "outputId": "7acc6040-156a-462f-c33d-68dbc37fbbf0"
      },
      "source": [
        "#first and last element of a list\n",
        "list=[1,2,3,4,5]\n",
        "print(\"The list is:\",list)\n",
        "print(\"The first element is: \",list[0],\" and last element is:\",list[-1])"
      ],
      "execution_count": null,
      "outputs": [
        {
          "output_type": "stream",
          "name": "stdout",
          "text": [
            "The list is: [1, 2, 3, 4, 5]\n",
            "The first element is:  1  and last element is: 5\n"
          ]
        }
      ]
    },
    {
      "cell_type": "code",
      "metadata": {
        "colab": {
          "base_uri": "https://localhost:8080/"
        },
        "id": "vsAOrDKvAQnW",
        "outputId": "7b1c9db5-99e7-469f-e7e8-08c8d321894f"
      },
      "source": [
        "#dictionary\n",
        "dict={1:'one',2:'two',3:'three',4:'four',5:'five'}\n",
        "print(dict)"
      ],
      "execution_count": null,
      "outputs": [
        {
          "output_type": "stream",
          "name": "stdout",
          "text": [
            "{1: 'one', 2: 'two', 3: 'three', 4: 'four', 5: 'five'}\n"
          ]
        }
      ]
    },
    {
      "cell_type": "code",
      "metadata": {
        "colab": {
          "base_uri": "https://localhost:8080/"
        },
        "id": "PKIgy5vHAkE0",
        "outputId": "39f87292-4ec2-44c0-957b-93baf4d00a3f"
      },
      "source": [
        "#merge two dictionary\n",
        "dict1={1:'Apple',2:'Mango'}\n",
        "dict2={3:'Banana',4:'pear'}\n",
        "print(\"First dictionary\",dict1)\n",
        "dict1.update(dict2)\n",
        "print(\"Second dictionary\",dict2)\n",
        "print(\"dictionary after merging:\",dict1)"
      ],
      "execution_count": null,
      "outputs": [
        {
          "output_type": "stream",
          "name": "stdout",
          "text": [
            "First dictionary {1: 'Apple', 2: 'Mango'}\n",
            "Second dictionary {3: 'Banana', 4: 'pear'}\n",
            "dictionary after merging: {1: 'Apple', 2: 'Mango', 3: 'Banana', 4: 'pear'}\n"
          ]
        }
      ]
    }
  ]
}