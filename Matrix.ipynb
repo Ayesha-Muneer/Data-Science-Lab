{
  "nbformat": 4,
  "nbformat_minor": 0,
  "metadata": {
    "colab": {
      "name": "Matrix.ipynb",
      "provenance": [],
      "authorship_tag": "ABX9TyNdY1+e0zls4kZTXxgALw44",
      "include_colab_link": true
    },
    "kernelspec": {
      "name": "python3",
      "display_name": "Python 3"
    },
    "language_info": {
      "name": "python"
    }
  },
  "cells": [
    {
      "cell_type": "markdown",
      "metadata": {
        "id": "view-in-github",
        "colab_type": "text"
      },
      "source": [
        "<a href=\"https://colab.research.google.com/github/Ayesha-Muneer/Data-Science-Lab/blob/master/Matrix.ipynb\" target=\"_parent\"><img src=\"https://colab.research.google.com/assets/colab-badge.svg\" alt=\"Open In Colab\"/></a>"
      ]
    },
    {
      "cell_type": "code",
      "execution_count": 3,
      "metadata": {
        "colab": {
          "base_uri": "https://localhost:8080/"
        },
        "id": "9axgJRUQRxKw",
        "outputId": "eed70af8-51c5-488d-b1b5-356dfbb2dcf1"
      },
      "outputs": [
        {
          "output_type": "stream",
          "name": "stdout",
          "text": [
            "Given matrix:\n",
            "[[1 2]\n",
            " [3 4]]\n",
            "The element wise multiplication of matrix is : \n",
            "[[ 5 12]\n",
            " [21 32]]\n",
            "The product of matrices is : \n",
            "[[19 22]\n",
            " [43 50]]\n",
            "The transpose of given matrix is : \n",
            "[[1 3]\n",
            " [2 4]]\n",
            "The trace of given matrix is : \n",
            "5\n",
            "2\n",
            "-2.0000000000000004\n",
            "[[-2.   1. ]\n",
            " [ 1.5 -0.5]]\n",
            "(array([-0.37228132,  5.37228132]), array([[-0.82456484, -0.41597356],\n",
            "       [ 0.56576746, -0.90937671]]))\n"
          ]
        }
      ],
      "source": [
        "# Python code to demonstrate matrix operations\n",
        "# multiply() and dot()\n",
        "  \n",
        "# importing numpy for matrix operations\n",
        "import numpy\n",
        "  \n",
        "# initializing matrices\n",
        "x = numpy.array([[1, 2], [3, 4]])\n",
        "y = numpy.array([[5, 6], [7, 8]])\n",
        "print(\"Given matrix:\")\n",
        "print(x)\n",
        "# using multiply() to multiply matrices element wise\n",
        "print (\"The element wise multiplication of matrix is : \")\n",
        "print (numpy.multiply(x,y))\n",
        "  \n",
        "# using dot() to multiply matrices\n",
        "print (\"The product of matrices is : \")\n",
        "print (numpy.dot(x,y))\n",
        "\n",
        "# using \"T\" to transpose the matrix\n",
        "print (\"The transpose of given matrix is : \")\n",
        "print (x.T)\n",
        "\n",
        "# using \"trace\" to find trace of the matrix\n",
        "print (\"The trace of given matrix is : \")\n",
        "print (x.trace())\n",
        "\n",
        "#Rank of matrix\n",
        "print(numpy.linalg.matrix_rank(x))\n",
        "\n",
        "#Determinant of matrix\n",
        "print(numpy.linalg.det(x))\n",
        "\n",
        "#Inverse of matrix\n",
        "print(numpy.linalg.inv(x))\n",
        "\n",
        "#Eigen values of matrix\n",
        "print(numpy.linalg.eig(x))"
      ]
    }
  ]
}