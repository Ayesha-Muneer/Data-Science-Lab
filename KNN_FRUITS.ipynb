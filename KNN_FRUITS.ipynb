{
  "nbformat": 4,
  "nbformat_minor": 0,
  "metadata": {
    "colab": {
      "name": "KNN_FRUITS.ipynb",
      "provenance": [],
      "authorship_tag": "ABX9TyN/lq1X7z9NAIfkINbc0pBH",
      "include_colab_link": true
    },
    "kernelspec": {
      "name": "python3",
      "display_name": "Python 3"
    },
    "language_info": {
      "name": "python"
    }
  },
  "cells": [
    {
      "cell_type": "markdown",
      "metadata": {
        "id": "view-in-github",
        "colab_type": "text"
      },
      "source": [
        "<a href=\"https://colab.research.google.com/github/Ayesha-Muneer/Data-Science-Lab/blob/master/KNN_FRUITS.ipynb\" target=\"_parent\"><img src=\"https://colab.research.google.com/assets/colab-badge.svg\" alt=\"Open In Colab\"/></a>"
      ]
    },
    {
      "cell_type": "code",
      "execution_count": null,
      "metadata": {
        "id": "83GtJR3esQWm"
      },
      "outputs": [],
      "source": [
        "#import knn classifier\n",
        "from sklearn.neighbors import KNeighborsClassifier"
      ]
    },
    {
      "cell_type": "code",
      "source": [
        "# create object\n",
        "knn=KNeighborsClassifier(3)"
      ],
      "metadata": {
        "id": "6jC__b7twSbM"
      },
      "execution_count": null,
      "outputs": []
    },
    {
      "cell_type": "code",
      "source": [
        "#input values\n",
        "x=[[8,5],[3,7],[3,6],[7,3]]\n",
        "y=[0,1,2,0]\n",
        "print(\"Features :\",x)\n",
        "print(\"Class :\",y)"
      ],
      "metadata": {
        "colab": {
          "base_uri": "https://localhost:8080/"
        },
        "id": "PqgyIf4YtAGj",
        "outputId": "60801b64-c9f9-445b-a3a1-f61d028009da"
      },
      "execution_count": null,
      "outputs": [
        {
          "output_type": "stream",
          "name": "stdout",
          "text": [
            "Features : [[8, 5], [3, 7], [3, 6], [7, 3]]\n",
            "Class : [0, 1, 2, 0]\n"
          ]
        }
      ]
    },
    {
      "cell_type": "code",
      "source": [
        "# Fit and predict\n",
        "knn.fit(x,y)\n",
        "predict=knn.predict([[6,4]])\n",
        "print(\"The Given attribute belongs to class : \",predict)"
      ],
      "metadata": {
        "colab": {
          "base_uri": "https://localhost:8080/"
        },
        "id": "oNDxywFWv1FP",
        "outputId": "da9c7175-4c97-4660-ff2a-42d0d926e3e7"
      },
      "execution_count": null,
      "outputs": [
        {
          "output_type": "stream",
          "name": "stdout",
          "text": [
            "The Given attribute belongs to class :  [0]\n"
          ]
        }
      ]
    },
    {
      "cell_type": "code",
      "source": [
        "#pirnt using probability\n",
        "prob=knn.predict_proba([[6,4]])\n",
        "print(\"Probability of apple compared with 3 classes :\",prob)"
      ],
      "metadata": {
        "colab": {
          "base_uri": "https://localhost:8080/"
        },
        "id": "4qRmWECOw04I",
        "outputId": "edc56804-869d-4b0b-b8bc-64cd3c1b993e"
      },
      "execution_count": null,
      "outputs": [
        {
          "output_type": "stream",
          "name": "stdout",
          "text": [
            "Probability of apple compared with 3 classes : [[0.66666667 0.         0.33333333]]\n"
          ]
        }
      ]
    }
  ]
}