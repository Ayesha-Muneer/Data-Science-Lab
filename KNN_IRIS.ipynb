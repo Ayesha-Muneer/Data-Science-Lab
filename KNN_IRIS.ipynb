{
  "nbformat": 4,
  "nbformat_minor": 0,
  "metadata": {
    "colab": {
      "name": "KNN_IRIS.ipynb",
      "provenance": [],
      "authorship_tag": "ABX9TyOwWiiMahIVD8+Hheg51QLu",
      "include_colab_link": true
    },
    "kernelspec": {
      "name": "python3",
      "display_name": "Python 3"
    },
    "language_info": {
      "name": "python"
    }
  },
  "cells": [
    {
      "cell_type": "markdown",
      "metadata": {
        "id": "view-in-github",
        "colab_type": "text"
      },
      "source": [
        "<a href=\"https://colab.research.google.com/github/Ayesha-Muneer/Data-Science-Lab/blob/master/KNN_IRIS.ipynb\" target=\"_parent\"><img src=\"https://colab.research.google.com/assets/colab-badge.svg\" alt=\"Open In Colab\"/></a>"
      ]
    },
    {
      "cell_type": "code",
      "execution_count": null,
      "metadata": {
        "id": "p0g6K121zI4a"
      },
      "outputs": [],
      "source": [
        "#import \n",
        "from sklearn.neighbors import KNeighborsClassifier\n",
        "from sklearn.datasets import load_iris"
      ]
    },
    {
      "cell_type": "code",
      "source": [
        "#load dataset\n",
        "data=load_iris()"
      ],
      "metadata": {
        "id": "2el-Rt1JzcxC"
      },
      "execution_count": null,
      "outputs": []
    },
    {
      "cell_type": "code",
      "source": [
        "# create object\n",
        "knn=KNeighborsClassifier()"
      ],
      "metadata": {
        "id": "S4L5U5Nc0Fj2"
      },
      "execution_count": null,
      "outputs": []
    },
    {
      "cell_type": "code",
      "source": [
        "# fit data\n",
        "knn.fit(data.data,data.target)"
      ],
      "metadata": {
        "colab": {
          "base_uri": "https://localhost:8080/"
        },
        "id": "u8jJ20Ie0KoG",
        "outputId": "1f33c36f-8697-4341-d2dd-9a0e15ca0ee7"
      },
      "execution_count": null,
      "outputs": [
        {
          "output_type": "execute_result",
          "data": {
            "text/plain": [
              "KNeighborsClassifier()"
            ]
          },
          "metadata": {},
          "execution_count": 4
        }
      ]
    },
    {
      "cell_type": "code",
      "source": [
        "# predict data\n",
        "knn.predict([[1,2,3,4]])"
      ],
      "metadata": {
        "colab": {
          "base_uri": "https://localhost:8080/"
        },
        "id": "b17Mzz1e0dW-",
        "outputId": "321424ee-1829-45ea-c710-8ce29d3d538f"
      },
      "execution_count": null,
      "outputs": [
        {
          "output_type": "execute_result",
          "data": {
            "text/plain": [
              "array([1])"
            ]
          },
          "metadata": {},
          "execution_count": 17
        }
      ]
    },
    {
      "cell_type": "code",
      "source": [
        "# calculate probability\n",
        "prob=knn.predict_proba([[1,2,3,4]])\n",
        "print(\"Probability compared with 3 classes :\",prob)"
      ],
      "metadata": {
        "colab": {
          "base_uri": "https://localhost:8080/"
        },
        "id": "HPXyCas-0kol",
        "outputId": "4534e8b2-5f4c-49a8-abdc-cc7ff5471bfb"
      },
      "execution_count": null,
      "outputs": [
        {
          "output_type": "stream",
          "name": "stdout",
          "text": [
            "Probability compared with 3 classes : [[0.  0.8 0.2]]\n"
          ]
        }
      ]
    }
  ]
}