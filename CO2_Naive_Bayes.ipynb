{
  "nbformat": 4,
  "nbformat_minor": 0,
  "metadata": {
    "colab": {
      "name": "CO2_Naive_Bayes.ipynb",
      "provenance": [],
      "authorship_tag": "ABX9TyOLQGbk+/6SAs0jMIU/4rAr",
      "include_colab_link": true
    },
    "kernelspec": {
      "name": "python3",
      "display_name": "Python 3"
    },
    "language_info": {
      "name": "python"
    }
  },
  "cells": [
    {
      "cell_type": "markdown",
      "metadata": {
        "id": "view-in-github",
        "colab_type": "text"
      },
      "source": [
        "<a href=\"https://colab.research.google.com/github/Ayesha-Muneer/Data-Science-Lab/blob/master/CO2_Naive_Bayes.ipynb\" target=\"_parent\"><img src=\"https://colab.research.google.com/assets/colab-badge.svg\" alt=\"Open In Colab\"/></a>"
      ]
    },
    {
      "cell_type": "code",
      "execution_count": null,
      "metadata": {
        "id": "x2RjkC5P5Utf",
        "colab": {
          "base_uri": "https://localhost:8080/"
        },
        "outputId": "cf9844ac-aaa5-43e1-d16d-469d3e1278ed"
      },
      "outputs": [
        {
          "output_type": "stream",
          "name": "stdout",
          "text": [
            "The dataset with class is : [[8, 5, 0], [3, 7, 0], [3, 6, 0], [7, 3, 0], [8, 5, 1], [3, 7, 1], [3, 6, 1], [7, 3, 1]]\n"
          ]
        }
      ],
      "source": [
        "from math import *\n",
        "dataset =[[8,5,0],\n",
        "  [3,7,0],\n",
        "\t[3,6,0],\n",
        "\t[7,3,0],\n",
        "\t[8,5,1],\n",
        "  [3,7,1],\n",
        "\t[3,6,1],\n",
        "\t[7,3,1]]\n",
        "print(\"The dataset with class is :\",dataset)"
      ]
    },
    {
      "cell_type": "code",
      "source": [
        "#separate the dataset with class\n",
        "def separate_by_class(dataset):\n",
        "\tseparated = dict()\n",
        "\tfor i in range(len(dataset)):\n",
        "\t\tvector = dataset[i]\n",
        "\t\tclass_value = vector[-1]\n",
        "\t\tif (class_value not in separated):\n",
        "\t\t\tseparated[class_value] = list()\n",
        "\t\tseparated[class_value].append(vector)\n",
        "\treturn separated"
      ],
      "metadata": {
        "id": "r2yrtGJlDQYR"
      },
      "execution_count": null,
      "outputs": []
    },
    {
      "cell_type": "code",
      "source": [
        "#print separated sets\n",
        "separated = separate_by_class(dataset)\n",
        "for label in separated:\n",
        "\tprint(label)\n",
        "\tfor row in separated[label]:\n",
        "\t\tprint(row)"
      ],
      "metadata": {
        "colab": {
          "base_uri": "https://localhost:8080/"
        },
        "id": "sIfM1BxVDuke",
        "outputId": "795f3fa4-7fa4-48e0-d179-982b266b0e74"
      },
      "execution_count": null,
      "outputs": [
        {
          "output_type": "stream",
          "name": "stdout",
          "text": [
            "0\n",
            "[8, 5, 0]\n",
            "[3, 7, 0]\n",
            "[3, 6, 0]\n",
            "[7, 3, 0]\n",
            "1\n",
            "[8, 5, 1]\n",
            "[3, 7, 1]\n",
            "[3, 6, 1]\n",
            "[7, 3, 1]\n"
          ]
        }
      ]
    },
    {
      "cell_type": "code",
      "source": [
        "# Calculate the mean and the standard deviation \n",
        "def mean(numbers):\n",
        "\treturn sum(numbers)/float(len(numbers))\n",
        "def stdev(numbers):\n",
        "\tavg = mean(numbers)\n",
        "\tvariance = sum([(x-avg)**2 for x in numbers]) / float(len(numbers))\n",
        "\treturn sqrt(variance)"
      ],
      "metadata": {
        "id": "sOX3Ym0IEUmo"
      },
      "execution_count": null,
      "outputs": []
    },
    {
      "cell_type": "code",
      "source": [
        "# Create summary\n",
        "def summarize_dataset(dataset):\n",
        "\tsummaries = [(mean(column), stdev(column), len(column)) for column in zip(*dataset)]\n",
        "\tdel(summaries[-1])\n",
        "\treturn summaries\n",
        "summary = summarize_dataset(dataset)\n",
        "print(summary)"
      ],
      "metadata": {
        "id": "ETJYe4UPEaoU",
        "colab": {
          "base_uri": "https://localhost:8080/"
        },
        "outputId": "a0d246ee-c489-4e8e-8a7a-36612d49227e"
      },
      "execution_count": null,
      "outputs": [
        {
          "output_type": "stream",
          "name": "stdout",
          "text": [
            "[(5.25, 2.277608394786075, 8), (5.25, 1.479019945774904, 8)]\n"
          ]
        }
      ]
    },
    {
      "cell_type": "code",
      "source": [
        "# Split data\n",
        "def summarize_by_class(dataset):\n",
        "\tseparated = separate_by_class(dataset)\n",
        "\tsummaries = dict()\n",
        "\tfor class_value, rows in separated.items():\n",
        "\t\tsummaries[class_value] = summarize_dataset(rows)\n",
        "\treturn summaries\n",
        "summary = summarize_by_class(dataset)\n",
        "for label in summary:\n",
        "\tprint(label)\n",
        "\tfor row in summary[label]:\n",
        "\t\tprint(row)"
      ],
      "metadata": {
        "id": "z4o1Y_RnExYk",
        "colab": {
          "base_uri": "https://localhost:8080/"
        },
        "outputId": "8fb973ac-3460-4871-ba7b-f7656b496bbc"
      },
      "execution_count": null,
      "outputs": [
        {
          "output_type": "stream",
          "name": "stdout",
          "text": [
            "0\n",
            "(5.25, 2.277608394786075, 4)\n",
            "(5.25, 1.479019945774904, 4)\n",
            "1\n",
            "(5.25, 2.277608394786075, 4)\n",
            "(5.25, 1.479019945774904, 4)\n"
          ]
        }
      ]
    },
    {
      "cell_type": "code",
      "source": [
        "# Calculate the probabilities\n",
        "def calculate_probability(x, mean, stdev):\n",
        "\texponent = exp(-((x-mean)**2 / (2 * stdev**2 )))\n",
        "\treturn (1 / (sqrt(2 * pi) * stdev)) * exponent\n",
        " \n",
        "def calculate_class_probabilities(summaries, row):\n",
        "\ttotal_rows = sum([summaries[label][0][2] for label in summaries])\n",
        "\tprobabilities = dict()\n",
        "\tfor class_value, class_summaries in summaries.items():\n",
        "\t\tprobabilities[class_value] = summaries[class_value][0][2]/float(total_rows)\n",
        "\t\tfor i in range(len(class_summaries)):\n",
        "\t\t\tmean, stdev, _ = class_summaries[i]\n",
        "\t\t\tprobabilities[class_value] *= calculate_probability(row[i], mean, stdev)\n",
        "\treturn probabilities\n",
        "print(calculate_probability(1.0, 1.0, 1.0))"
      ],
      "metadata": {
        "id": "1oe7PDn3E7SD",
        "colab": {
          "base_uri": "https://localhost:8080/"
        },
        "outputId": "1937593f-588e-4ce9-b7d3-b897463ac602"
      },
      "execution_count": null,
      "outputs": [
        {
          "output_type": "stream",
          "name": "stdout",
          "text": [
            "0.3989422804014327\n"
          ]
        }
      ]
    },
    {
      "cell_type": "code",
      "source": [
        "summaries = summarize_by_class(dataset)\n",
        "probabilities = calculate_class_probabilities(summaries, dataset[0])\n",
        "print(probabilities)"
      ],
      "metadata": {
        "colab": {
          "base_uri": "https://localhost:8080/"
        },
        "id": "ET9luiJDFF4U",
        "outputId": "10349b13-c8a2-4676-bbe6-39788496bb6f"
      },
      "execution_count": null,
      "outputs": [
        {
          "output_type": "stream",
          "name": "stdout",
          "text": [
            "{0: 0.011234889190146062, 1: 0.011234889190146062}\n"
          ]
        }
      ]
    }
  ]
}